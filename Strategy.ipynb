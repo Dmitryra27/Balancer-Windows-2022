{
 "cells": [
  {
   "cell_type": "markdown",
   "metadata": {},
   "source": [
    "## Functions of three Strategies"
   ]
  },
  {
   "cell_type": "code",
   "execution_count": null,
   "metadata": {},
   "outputs": [],
   "source": [
    "from Balancer_lib_new import *"
   ]
  },
  {
   "cell_type": "code",
   "execution_count": 1,
   "metadata": {},
   "outputs": [],
   "source": [
    "def strategy1(pool1, ratio1, datas, n, step):\n",
    "    st=[]\n",
    "\n",
    "    arr_pool1=[]\n",
    "    arr_value_pool1=[]\n",
    "    arr_value_tokens1=[]\n",
    "    arr_IL1=[]\n",
    "    w1=[]\n",
    "    arr_ratio1=[]\n",
    "\n",
    "    #Strategy1 - datas\n",
    "    for step in range(0, len(datas)):\n",
    "        st.append(step)\n",
    "        datas.append(datas[step])\n",
    "        pool11 = pool_from_ratio_oldpool(pool1, ratio1, datas, step,  n)\n",
    "        weights11 = weights_from_new_pool(pool11, datas, step, n)\n",
    "        w1.append(weights11)\n",
    "    \n",
    "        value01=value(pool1, datas, step, n)#before swap\n",
    "        sw1 = swaps_new1(pool1, weights11, datas, step, n, value01, fee)\n",
    "        pool11 =sw1[0]\n",
    "        arr_pool1.append(pool11)\n",
    "        v1=value_tokens(pool11, datas, step, n)\n",
    "        arr_value_tokens1.append(v1)\n",
    "        rt11=ratio_tokens(pool11, datas, step, n)\n",
    "        arr_ratio1.append(rt11)\n",
    "        value1=value(pool11, datas, step, n)#after swap\n",
    "    \n",
    "        arr_value_pool1.append(value1)\n",
    "        IL1=(value1-value01)/value01\n",
    "        arr_IL1.append(IL1)\n",
    "    return arr_IL1, arr_ratio1, pool11, w1"
   ]
  },
  {
   "cell_type": "code",
   "execution_count": 2,
   "metadata": {},
   "outputs": [],
   "source": [
    "def strategy2(pool2, weights2, ratio1, datas, step, n, fee, start_step, n_steps):\n",
    "    pool2_end = pool_from_ratio_oldpool(pool2, ratio1, datas, start_step,  n)\n",
    "    weights_end = weights_from_new_pool(pool2_end, datas, start_step, n)\n",
    "    dif_weights = [0]*n\n",
    "    for i in range(0,n):\n",
    "        dif_weights[i] = (weights_end[i] - weights2[i])/(n_steps)\n",
    "    st2=[]\n",
    "    arr_pool2=[]\n",
    "    arr_value_tokens2=[]\n",
    "    arr_value_pool2=[]\n",
    "    arr_IL2=[]\n",
    "    w2=[]\n",
    "    arr_ratio2=[]\n",
    "    arr_tot_IL2=[]\n",
    "    IL2_tot=0\n",
    "    for step in range(start_step, start_step+n_steps+1):\n",
    "        st2.append(step)\n",
    "        value02=value(pool2, datas, step, n)#before swap\n",
    "        for i in range(0, n):\n",
    "            weights2[i]+=dif_weights[i]\n",
    "         \n",
    "        \n",
    "        \n",
    "        sw2 = swaps_new1(pool2, weights2, datas, step, n, value02, fee)\n",
    "        pool2 =sw2[0]\n",
    "    \n",
    "        w2.append(weights2)\n",
    "        arr_pool2.append(pool2)\n",
    "        v2=value_tokens(pool2, datas, step, n)\n",
    "        arr_value_tokens2.append(v2)\n",
    "        rt2=ratio_tokens(pool2, datas, step, n)\n",
    "        arr_ratio2.append(rt2)\n",
    "        value2=value(pool2, datas, step, n)#after swap\n",
    "    \n",
    "        arr_value_pool2.append(value2)\n",
    "        IL2=(value2-value02)/value02\n",
    "        arr_IL2.append(IL2)\n",
    "        IL2_tot+=IL2\n",
    "        arr_tot_IL2.append(IL2_tot)    \n",
    "        \n",
    "    return arr_tot_IL2, rt2, pool22, w2"
   ]
  },
  {
   "cell_type": "code",
   "execution_count": 3,
   "metadata": {},
   "outputs": [],
   "source": [
    "import copy\n",
    "def descr_ratio(ratio):#ratio - array\n",
    "    rat = copy.deepcopy(ratio)\n",
    "    r=[]\n",
    "    place=[-1]*len(ratio)\n",
    "    r=sorted(ratio, reverse=True)\n",
    "    for i in range(0,len(ratio)):\n",
    "        for j in range(0,len(ratio)):\n",
    "            if r[i]==rat[j]:\n",
    "                print('i= ',i,' j = ',j,r[i],rat[j])\n",
    "                place[i]=j\n",
    "                rat[j]=5\n",
    "                break\n",
    "        \n",
    "    return r, place"
   ]
  },
  {
   "cell_type": "code",
   "execution_count": 4,
   "metadata": {},
   "outputs": [],
   "source": [
    "def strategy3(pool3, weights3, ratio1, datas, step, n, fee, start_step, n_steps, vel):\n",
    "    st3=[]\n",
    "    arr_pool3=[]\n",
    "    arr_value_tokens3=[]\n",
    "    arr_value_pool3=[]\n",
    "    arr_IL3=[]\n",
    "    w3=[]\n",
    "    arr_ratio3=[]\n",
    "    arr_tot_IL3=[]\n",
    "    IL3_tot=0\n",
    "#print(pool3)\n",
    "    for step in range(start_step, start_step+n_steps+1):\n",
    "        counter=0\n",
    "        st3.append(step)\n",
    "        value03=value(pool3, datas, step, n)#before swap\n",
    "        delta_price = delta_spot_market_procent(pool3, weights3, datas, step, n, value03)\n",
    "    \n",
    "        #if start_step<=step and step<=start:\n",
    "        current_ratio = ratio_tokens(pool3, datas, step, n)\n",
    "        r1=descr_ratio(ratio1)[0]\n",
    "        pr1=descr_ratio(ratio1)[1]\n",
    "        cr=descr_ratio(current_ratio)[0]\n",
    "        pcr=descr_ratio(current_ratio)[1]\n",
    "        \n",
    "        if r1[0]>cr[0] and  r1[n-1]<cr[n-1] :\n",
    "            \n",
    "            if delta_price[pr1[0]]>0  and delta_price[pr1[n-1]]<0:\n",
    "                pool3_end = pool_from_ratio_oldpool(pool3, ratio1, datas, step,  n)\n",
    "                w3=weights_from_new_pool(pool3_end, datas, step, n)\n",
    "                for i in range(0, n):\n",
    "                    weights3[i]+=(w3[i]-weights3[i])/vel\n",
    "        else:\n",
    "            w3=weights_from_new_pool(pool3, datas, step, n)\n",
    "            for i in range(0, n):\n",
    "                weights3[i]+=(w3[i]-weights3[i])/vel\n",
    "        sw3 = swaps_new1(pool3, weights3, datas, step, n, value03, fee)\n",
    "        pool3 =sw3[0]\n",
    "\n",
    "        w3.append(weights3)\n",
    "\n",
    "        arr_pool3.append(pool3)\n",
    "        v3=value_tokens(pool3, datas, step, n)\n",
    "        arr_value_tokens3.append(v3)\n",
    "        rt3=ratio_tokens(pool3, datas, step, n)\n",
    "        arr_ratio3.append(rt3)\n",
    "\n",
    "        value3=value(pool3, datas, step, n)#after swap\n",
    "\n",
    "        arr_value_pool3.append(value3)\n",
    "        IL3=(value3-value03)/value03\n",
    "        arr_IL3.append(IL3)\n",
    "        IL3_tot+=IL3\n",
    "        arr_tot_IL3.append(IL3_tot)\n",
    "    \n",
    "    return arr_tot_IL3, arr_ratio3, pool33, w3"
   ]
  },
  {
   "cell_type": "code",
   "execution_count": 5,
   "metadata": {},
   "outputs": [
    {
     "ename": "NameError",
     "evalue": "name 'datas' is not defined",
     "output_type": "error",
     "traceback": [
      "\u001b[1;31m---------------------------------------------------------------------------\u001b[0m",
      "\u001b[1;31mNameError\u001b[0m                                 Traceback (most recent call last)",
      "\u001b[1;32m<ipython-input-5-5c5625557d75>\u001b[0m in \u001b[0;36m<module>\u001b[1;34m\u001b[0m\n\u001b[0;32m      1\u001b[0m \u001b[0mst\u001b[0m\u001b[1;33m=\u001b[0m\u001b[1;33m[\u001b[0m\u001b[1;33m]\u001b[0m\u001b[1;33m\u001b[0m\u001b[1;33m\u001b[0m\u001b[0m\n\u001b[0;32m      2\u001b[0m \u001b[1;33m\u001b[0m\u001b[0m\n\u001b[1;32m----> 3\u001b[1;33m \u001b[1;32mfor\u001b[0m \u001b[0mi\u001b[0m \u001b[1;32min\u001b[0m \u001b[0mrange\u001b[0m\u001b[1;33m(\u001b[0m\u001b[1;36m0\u001b[0m\u001b[1;33m,\u001b[0m \u001b[0mlen\u001b[0m\u001b[1;33m(\u001b[0m\u001b[0mdatas\u001b[0m\u001b[1;33m)\u001b[0m\u001b[1;33m,\u001b[0m \u001b[0mn_steps\u001b[0m\u001b[1;33m)\u001b[0m\u001b[1;33m:\u001b[0m\u001b[1;33m\u001b[0m\u001b[1;33m\u001b[0m\u001b[0m\n\u001b[0m\u001b[0;32m      4\u001b[0m     \u001b[0mst_temp\u001b[0m\u001b[1;33m=\u001b[0m\u001b[1;33m[\u001b[0m\u001b[1;33m]\u001b[0m\u001b[1;33m\u001b[0m\u001b[1;33m\u001b[0m\u001b[0m\n\u001b[0;32m      5\u001b[0m     \u001b[1;32mfor\u001b[0m \u001b[0mj\u001b[0m \u001b[1;32min\u001b[0m \u001b[0mrange\u001b[0m\u001b[1;33m(\u001b[0m\u001b[0mi\u001b[0m\u001b[1;33m,\u001b[0m \u001b[0mi\u001b[0m\u001b[1;33m+\u001b[0m\u001b[0mn_steps\u001b[0m\u001b[1;33m)\u001b[0m\u001b[1;33m:\u001b[0m\u001b[1;33m\u001b[0m\u001b[1;33m\u001b[0m\u001b[0m\n",
      "\u001b[1;31mNameError\u001b[0m: name 'datas' is not defined"
     ]
    }
   ],
   "source": [
    "st=[]\n",
    "\n",
    "for i in range(0, len(datas), n_steps):\n",
    "    st_temp=[]\n",
    "    for j in range(i, i+n_steps):\n",
    "        st_temp.append(j)\n",
    "    st.append(st_temp)"
   ]
  },
  {
   "cell_type": "code",
   "execution_count": null,
   "metadata": {},
   "outputs": [],
   "source": [
    "print('Import Datas for Strategies finished.')"
   ]
  }
 ],
 "metadata": {
  "kernelspec": {
   "display_name": "Python 3",
   "language": "python",
   "name": "python3"
  },
  "language_info": {
   "codemirror_mode": {
    "name": "ipython",
    "version": 3
   },
   "file_extension": ".py",
   "mimetype": "text/x-python",
   "name": "python",
   "nbconvert_exporter": "python",
   "pygments_lexer": "ipython3",
   "version": "3.8.5"
  }
 },
 "nbformat": 4,
 "nbformat_minor": 4
}
